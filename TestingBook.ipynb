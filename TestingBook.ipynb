{
 "cells": [
  {
   "cell_type": "code",
   "execution_count": null,
   "metadata": {},
   "outputs": [],
   "source": [
    "from CardDeck import CardDeck, Card\n",
    "deck = CardDeck(10)"
   ]
  },
  {
   "cell_type": "code",
   "execution_count": 20,
   "metadata": {},
   "outputs": [],
   "source": [
    "def findFixedPoints(deck: CardDeck):\n",
    "    # permute the deck\n",
    "    permutation = deck.permute()\n",
    "    # check if any cards in the same index share a number\n",
    "    for i in range(len(permutation)):\n",
    "        if deck.deck[i].number == permutation[i].number:\n",
    "            # retun 1 to indicate a fixed point was found\n",
    "            return 1\n",
    "    # no fixed points found, return 0\n",
    "    return 0"
   ]
  },
  {
   "cell_type": "code",
   "execution_count": null,
   "metadata": {},
   "outputs": [
    {
     "name": "stdout",
     "output_type": "stream",
     "text": [
      "Number of permutations with 1 or more fixed points: 68\n",
      "Experimental probability of no fixed points: 0.32\n"
     ]
    }
   ],
   "source": [
    "# Fixed points probability\n",
    "iterations = 100\n",
    "fixedPoints = 0\n",
    "for i in range(iterations):\n",
    "    fixedPoints += findFixedPoints(deck)\n",
    "print(f\"Number of permutations with 1 or more fixed points: {fixedPoints}\")\n",
    "probNoFixedPoints = (iterations - fixedPoints) / iterations\n",
    "print(f\"Experimental probability of no fixed points: {probNoFixedPoints}\")"
   ]
  },
  {
   "cell_type": "code",
   "execution_count": null,
   "metadata": {},
   "outputs": [],
   "source": [
    "# select another card if not all seen yet\n",
    "# add cards to current cycle set while the cycle is not finished\n",
    "# when the cycle ends (number of card in nth slot is the first card in the cycle)\n",
    "# stop loop. Size of set is the size of the cycle\n",
    "\n",
    "def findAllCycles(permutation: list[Card]):\n",
    "    \"\"\"Finds lengths of all cycles present in a permutation\"\"\"\n",
    "    cycleLengths = []\n",
    "    seen = set()\n",
    "    for card in permutation:\n",
    "        if card.number not in seen:\n",
    "            currentCycle = set()\n",
    "            seen.add(card.number)\n",
    "            currentCycle.add(card.number)\n",
    "            checkCard = permutation[card.number - 1]\n",
    "            while checkCard.number != card.number:\n",
    "                seen.add(checkCard.number)\n",
    "                currentCycle.add(checkCard.number)\n",
    "                checkCard = permutation[checkCard.number - 1]\n",
    "            cycleLengths.append(len(currentCycle))\n",
    "    return cycleLengths\n",
    "                \n"
   ]
  },
  {
   "cell_type": "code",
   "execution_count": null,
   "metadata": {},
   "outputs": [
    {
     "name": "stdout",
     "output_type": "stream",
     "text": [
      "k = 4\n",
      "Number of 4 length cycles found: 20\n",
      "Experimental number of 4 length cycle: 0.2\n"
     ]
    }
   ],
   "source": [
    "# Expected number of cycles of order k\n",
    "try:\n",
    "    k = int(input())\n",
    "    print(f\"k = {k}\")\n",
    "except:\n",
    "    print(\"Please enter an integer\")\n",
    "\n",
    "kLengthCycles = 0\n",
    "iterations = 100\n",
    "for i in range(iterations):\n",
    "    # permute the deck\n",
    "    newPermutation = deck.permute()\n",
    "    # find all cycles\n",
    "    cycleLengths = findAllCycles(newPermutation)\n",
    "    # check how many cycles match desired length\n",
    "    for value in cycleLengths:\n",
    "        if value == k:\n",
    "            kLengthCycles += 1\n",
    "\n",
    "print(f\"Number of {k} length cycles found: {kLengthCycles}\")\n",
    "print(f\"Experimental number of {k} length cycle: {kLengthCycles / iterations}\")"
   ]
  },
  {
   "cell_type": "code",
   "execution_count": null,
   "metadata": {},
   "outputs": [
    {
     "name": "stdout",
     "output_type": "stream",
     "text": [
      "Experimental expected largest cycle size: 6.39\n"
     ]
    }
   ],
   "source": [
    "# Expected order of largest cycle\n",
    "maximumLengthsSum = 0\n",
    "for i in range(iterations):\n",
    "    # permute the deck\n",
    "    newPermutation = deck.permute()\n",
    "    # find all cycles\n",
    "    cycleLengths = findAllCycles(newPermutation)\n",
    "    # add the length of the longest cycle to the sum of maximal cycle lengths variable\n",
    "    maximumLengthsSum += max(cycleLengths)\n",
    "# report average longest length cycle\n",
    "print(f\"Experimental expected largest cycle size: {maximumLengthsSum / iterations}\")"
   ]
  },
  {
   "cell_type": "code",
   "execution_count": 70,
   "metadata": {},
   "outputs": [],
   "source": [
    "def longestConsecHelper(permutation: list[Card], prevNumber: int):\n",
    "    # recursive base case\n",
    "    if len(permutation) == 0:\n",
    "        return 0\n",
    "    # consider result if taking first card in list\n",
    "    include = 0\n",
    "    if permutation[0].number == prevNumber + 1:\n",
    "        include = 1 + longestConsecHelper(permutation[1:], permutation[0].number)\n",
    "    # consider result if not taking first card in list\n",
    "    disinclude = longestConsecHelper(permutation[1:], permutation[0].number)\n",
    "\n",
    "    #return better of the two options\n",
    "    return max(include, disinclude)\n",
    "\n",
    "def longestConsecutiveSequence(permutation: list[Card]):\n",
    "    firstNum = permutation[0].number\n",
    "    return 1 + longestConsecHelper(permutation[1:], firstNum)"
   ]
  },
  {
   "cell_type": "code",
   "execution_count": null,
   "metadata": {},
   "outputs": [
    {
     "name": "stdout",
     "output_type": "stream",
     "text": [
      "Experimental expected longest consecutive sequence: 1.99\n"
     ]
    }
   ],
   "source": [
    "# expected length of consecutive numbers sequence\n",
    "sumOfLengths = 0\n",
    "\n",
    "for i in range(iterations):\n",
    "    newPermutation = deck.permute()\n",
    "    sumOfLengths += longestConsecutiveSequence(newPermutation)\n",
    "    \n",
    "print(f\"Experimental expected longest consecutive sequence: {sumOfLengths / iterations}\")\n",
    "    "
   ]
  }
 ],
 "metadata": {
  "kernelspec": {
   "display_name": "Python 3",
   "language": "python",
   "name": "python3"
  },
  "language_info": {
   "codemirror_mode": {
    "name": "ipython",
    "version": 3
   },
   "file_extension": ".py",
   "mimetype": "text/x-python",
   "name": "python",
   "nbconvert_exporter": "python",
   "pygments_lexer": "ipython3",
   "version": "3.13.3"
  }
 },
 "nbformat": 4,
 "nbformat_minor": 2
}
